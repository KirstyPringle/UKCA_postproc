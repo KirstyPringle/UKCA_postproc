{
 "cells": [
  {
   "cell_type": "markdown",
   "metadata": {},
   "source": [
    "# Overlays\n",
    "\n",
    "This is a notebook demonstrating how to overlay multiple plots on a single set of axes, including the use of coastlines."
   ]
  },
  {
   "cell_type": "code",
   "execution_count": 26,
   "metadata": {
    "collapsed": false
   },
   "outputs": [],
   "source": [
    "import iris\n",
    "import iris.plot as iplt\n",
    "import matplotlib.pyplot as plt\n",
    "import matplotlib\n",
    "import sys\n",
    "import glob\n",
    "#import UKCA_lib as ukl\n",
    "from cube_browser import Contour, Browser, Contourf, Pcolormesh"
   ]
  },
  {
   "cell_type": "code",
   "execution_count": 18,
   "metadata": {
    "collapsed": false
   },
   "outputs": [
    {
     "name": "stdout",
     "output_type": "stream",
     "text": [
      "0 /home/numlet/Desktop/test_files/nc/L1_ccn0.2_Cloud_condensation_nuclei_at_a_supersaturation_of_0.2000.nc\n",
      "1 /home/numlet/Desktop/test_files/nc/L1_mcon_dust_corsol_mass_concentration_of_dust_in_soluble_coarse_mode_dry_aerosol.nc\n",
      "2 /home/numlet/Desktop/test_files/nc/L1_mcon_ss_total_mass_concentration_of_ss.nc\n",
      "3 /home/numlet/Desktop/test_files/nc/L1_mcon_dust_accsol_mass_concentration_of_dust_in_soluble_accumulation_mode_dry_aerosol.nc\n",
      "4 /home/numlet/Desktop/test_files/nc/L1_mcon_bc_total_mass_concentration_of_bc.nc\n",
      "5 /home/numlet/Desktop/test_files/nc/L1_mcon_dust_accins_mass_concentration_of_dust_in_insoluble_accumulation_mode_aerosol.nc\n",
      "6 /home/numlet/Desktop/test_files/nc/L1_ccn0.1_Cloud_condensation_nuclei_at_a_supersaturation_of_0.1000.nc\n",
      "7 /home/numlet/Desktop/test_files/nc/L1_mcon_dust_corins_mass_concentration_of_dust_in_insoluble_coarse_mode_dry_aerosol.nc\n"
     ]
    }
   ],
   "source": [
    "path='/home/numlet/Desktop/test_files/nc/'\n",
    "nc_files=glob.glob(path+'*.nc')\n",
    "#print nc_files\n",
    "for inc in range(len(nc_files)):\n",
    "    print inc,nc_files[inc]"
   ]
  },
  {
   "cell_type": "code",
   "execution_count": 28,
   "metadata": {
    "collapsed": false
   },
   "outputs": [
    {
     "name": "stdout",
     "output_type": "stream",
     "text": [
      "/home/numlet/Desktop/test_files/nc/L1_ccn0.1_Cloud_condensation_nuclei_at_a_supersaturation_of_0.1000.nc\n",
      "Cloud_condensation_nuclei_at_a_supersaturation_of_0.1000 / (meter^-3) (time: 12; model_level_number: 85; latitude: 145; longitude: 192)\n",
      "     Dimension coordinates:\n",
      "          time                                                             x                       -             -               -\n",
      "          model_level_number                                               -                       x             -               -\n",
      "          latitude                                                         -                       -             x               -\n",
      "          longitude                                                        -                       -             -               x\n",
      "     Auxiliary coordinates:\n",
      "          forecast_period                                                  x                       -             -               -\n",
      "          atmosphere_hybrid_height_coordinate                              -                       x             -               -\n",
      "          sigma                                                            -                       x             -               -\n",
      "          surface_altitude                                                 -                       -             x               x\n",
      "     Derived coordinates:\n",
      "          altitude                                                         -                       x             x               x\n",
      "     Scalar coordinates:\n",
      "          forecast_reference_time: 2006-12-01 00:00:00\n",
      "     Attributes:\n",
      "          Conventions: CF-1.5\n"
     ]
    }
   ],
   "source": [
    "inc=6\n",
    "print nc_files[inc]\n",
    "cube1 = iris.load(nc_files[inc])[0]\n",
    "#cube2 = iris.load_cube(iris.sample_data_path('GloSea4/ensemble_002.pp'))\n",
    "print cube1\n",
    "#print cube2"
   ]
  },
  {
   "cell_type": "markdown",
   "metadata": {},
   "source": [
    "- First, set up your map projection and axes (with any additions such as coastlines). \n",
    "- Overlay the plots by specifying the same set of axes in the plot constructions.  \n",
    "- Finally, display the plot."
   ]
  },
  {
   "cell_type": "code",
   "execution_count": 32,
   "metadata": {
    "collapsed": false
   },
   "outputs": [
    {
     "data": {
      "application/javascript": [
       "/* Put everything inside the global mpl namespace */\n",
       "window.mpl = {};\n",
       "\n",
       "mpl.get_websocket_type = function() {\n",
       "    if (typeof(WebSocket) !== 'undefined') {\n",
       "        return WebSocket;\n",
       "    } else if (typeof(MozWebSocket) !== 'undefined') {\n",
       "        return MozWebSocket;\n",
       "    } else {\n",
       "        alert('Your browser does not have WebSocket support.' +\n",
       "              'Please try Chrome, Safari or Firefox ≥ 6. ' +\n",
       "              'Firefox 4 and 5 are also supported but you ' +\n",
       "              'have to enable WebSockets in about:config.');\n",
       "    };\n",
       "}\n",
       "\n",
       "mpl.figure = function(figure_id, websocket, ondownload, parent_element) {\n",
       "    this.id = figure_id;\n",
       "\n",
       "    this.ws = websocket;\n",
       "\n",
       "    this.supports_binary = (this.ws.binaryType != undefined);\n",
       "\n",
       "    if (!this.supports_binary) {\n",
       "        var warnings = document.getElementById(\"mpl-warnings\");\n",
       "        if (warnings) {\n",
       "            warnings.style.display = 'block';\n",
       "            warnings.textContent = (\n",
       "                \"This browser does not support binary websocket messages. \" +\n",
       "                    \"Performance may be slow.\");\n",
       "        }\n",
       "    }\n",
       "\n",
       "    this.imageObj = new Image();\n",
       "\n",
       "    this.context = undefined;\n",
       "    this.message = undefined;\n",
       "    this.canvas = undefined;\n",
       "    this.rubberband_canvas = undefined;\n",
       "    this.rubberband_context = undefined;\n",
       "    this.format_dropdown = undefined;\n",
       "\n",
       "    this.image_mode = 'full';\n",
       "\n",
       "    this.root = $('<div/>');\n",
       "    this._root_extra_style(this.root)\n",
       "    this.root.attr('style', 'display: inline-block');\n",
       "\n",
       "    $(parent_element).append(this.root);\n",
       "\n",
       "    this._init_header(this);\n",
       "    this._init_canvas(this);\n",
       "    this._init_toolbar(this);\n",
       "\n",
       "    var fig = this;\n",
       "\n",
       "    this.waiting = false;\n",
       "\n",
       "    this.ws.onopen =  function () {\n",
       "            fig.send_message(\"supports_binary\", {value: fig.supports_binary});\n",
       "            fig.send_message(\"send_image_mode\", {});\n",
       "            fig.send_message(\"refresh\", {});\n",
       "        }\n",
       "\n",
       "    this.imageObj.onload = function() {\n",
       "            if (fig.image_mode == 'full') {\n",
       "                // Full images could contain transparency (where diff images\n",
       "                // almost always do), so we need to clear the canvas so that\n",
       "                // there is no ghosting.\n",
       "                fig.context.clearRect(0, 0, fig.canvas.width, fig.canvas.height);\n",
       "            }\n",
       "            fig.context.drawImage(fig.imageObj, 0, 0);\n",
       "        };\n",
       "\n",
       "    this.imageObj.onunload = function() {\n",
       "        this.ws.close();\n",
       "    }\n",
       "\n",
       "    this.ws.onmessage = this._make_on_message_function(this);\n",
       "\n",
       "    this.ondownload = ondownload;\n",
       "}\n",
       "\n",
       "mpl.figure.prototype._init_header = function() {\n",
       "    var titlebar = $(\n",
       "        '<div class=\"ui-dialog-titlebar ui-widget-header ui-corner-all ' +\n",
       "        'ui-helper-clearfix\"/>');\n",
       "    var titletext = $(\n",
       "        '<div class=\"ui-dialog-title\" style=\"width: 100%; ' +\n",
       "        'text-align: center; padding: 3px;\"/>');\n",
       "    titlebar.append(titletext)\n",
       "    this.root.append(titlebar);\n",
       "    this.header = titletext[0];\n",
       "}\n",
       "\n",
       "\n",
       "\n",
       "mpl.figure.prototype._canvas_extra_style = function(canvas_div) {\n",
       "\n",
       "}\n",
       "\n",
       "\n",
       "mpl.figure.prototype._root_extra_style = function(canvas_div) {\n",
       "\n",
       "}\n",
       "\n",
       "mpl.figure.prototype._init_canvas = function() {\n",
       "    var fig = this;\n",
       "\n",
       "    var canvas_div = $('<div/>');\n",
       "\n",
       "    canvas_div.attr('style', 'position: relative; clear: both; outline: 0');\n",
       "\n",
       "    function canvas_keyboard_event(event) {\n",
       "        return fig.key_event(event, event['data']);\n",
       "    }\n",
       "\n",
       "    canvas_div.keydown('key_press', canvas_keyboard_event);\n",
       "    canvas_div.keyup('key_release', canvas_keyboard_event);\n",
       "    this.canvas_div = canvas_div\n",
       "    this._canvas_extra_style(canvas_div)\n",
       "    this.root.append(canvas_div);\n",
       "\n",
       "    var canvas = $('<canvas/>');\n",
       "    canvas.addClass('mpl-canvas');\n",
       "    canvas.attr('style', \"left: 0; top: 0; z-index: 0; outline: 0\")\n",
       "\n",
       "    this.canvas = canvas[0];\n",
       "    this.context = canvas[0].getContext(\"2d\");\n",
       "\n",
       "    var rubberband = $('<canvas/>');\n",
       "    rubberband.attr('style', \"position: absolute; left: 0; top: 0; z-index: 1;\")\n",
       "\n",
       "    var pass_mouse_events = true;\n",
       "\n",
       "    canvas_div.resizable({\n",
       "        start: function(event, ui) {\n",
       "            pass_mouse_events = false;\n",
       "        },\n",
       "        resize: function(event, ui) {\n",
       "            fig.request_resize(ui.size.width, ui.size.height);\n",
       "        },\n",
       "        stop: function(event, ui) {\n",
       "            pass_mouse_events = true;\n",
       "            fig.request_resize(ui.size.width, ui.size.height);\n",
       "        },\n",
       "    });\n",
       "\n",
       "    function mouse_event_fn(event) {\n",
       "        if (pass_mouse_events)\n",
       "            return fig.mouse_event(event, event['data']);\n",
       "    }\n",
       "\n",
       "    rubberband.mousedown('button_press', mouse_event_fn);\n",
       "    rubberband.mouseup('button_release', mouse_event_fn);\n",
       "    // Throttle sequential mouse events to 1 every 20ms.\n",
       "    rubberband.mousemove('motion_notify', mouse_event_fn);\n",
       "\n",
       "    rubberband.mouseenter('figure_enter', mouse_event_fn);\n",
       "    rubberband.mouseleave('figure_leave', mouse_event_fn);\n",
       "\n",
       "    canvas_div.on(\"wheel\", function (event) {\n",
       "        event = event.originalEvent;\n",
       "        event['data'] = 'scroll'\n",
       "        if (event.deltaY < 0) {\n",
       "            event.step = 1;\n",
       "        } else {\n",
       "            event.step = -1;\n",
       "        }\n",
       "        mouse_event_fn(event);\n",
       "    });\n",
       "\n",
       "    canvas_div.append(canvas);\n",
       "    canvas_div.append(rubberband);\n",
       "\n",
       "    this.rubberband = rubberband;\n",
       "    this.rubberband_canvas = rubberband[0];\n",
       "    this.rubberband_context = rubberband[0].getContext(\"2d\");\n",
       "    this.rubberband_context.strokeStyle = \"#000000\";\n",
       "\n",
       "    this._resize_canvas = function(width, height) {\n",
       "        // Keep the size of the canvas, canvas container, and rubber band\n",
       "        // canvas in synch.\n",
       "        canvas_div.css('width', width)\n",
       "        canvas_div.css('height', height)\n",
       "\n",
       "        canvas.attr('width', width);\n",
       "        canvas.attr('height', height);\n",
       "\n",
       "        rubberband.attr('width', width);\n",
       "        rubberband.attr('height', height);\n",
       "    }\n",
       "\n",
       "    // Set the figure to an initial 600x600px, this will subsequently be updated\n",
       "    // upon first draw.\n",
       "    this._resize_canvas(600, 600);\n",
       "\n",
       "    // Disable right mouse context menu.\n",
       "    $(this.rubberband_canvas).bind(\"contextmenu\",function(e){\n",
       "        return false;\n",
       "    });\n",
       "\n",
       "    function set_focus () {\n",
       "        canvas.focus();\n",
       "        canvas_div.focus();\n",
       "    }\n",
       "\n",
       "    window.setTimeout(set_focus, 100);\n",
       "}\n",
       "\n",
       "mpl.figure.prototype._init_toolbar = function() {\n",
       "    var fig = this;\n",
       "\n",
       "    var nav_element = $('<div/>')\n",
       "    nav_element.attr('style', 'width: 100%');\n",
       "    this.root.append(nav_element);\n",
       "\n",
       "    // Define a callback function for later on.\n",
       "    function toolbar_event(event) {\n",
       "        return fig.toolbar_button_onclick(event['data']);\n",
       "    }\n",
       "    function toolbar_mouse_event(event) {\n",
       "        return fig.toolbar_button_onmouseover(event['data']);\n",
       "    }\n",
       "\n",
       "    for(var toolbar_ind in mpl.toolbar_items) {\n",
       "        var name = mpl.toolbar_items[toolbar_ind][0];\n",
       "        var tooltip = mpl.toolbar_items[toolbar_ind][1];\n",
       "        var image = mpl.toolbar_items[toolbar_ind][2];\n",
       "        var method_name = mpl.toolbar_items[toolbar_ind][3];\n",
       "\n",
       "        if (!name) {\n",
       "            // put a spacer in here.\n",
       "            continue;\n",
       "        }\n",
       "        var button = $('<button/>');\n",
       "        button.addClass('ui-button ui-widget ui-state-default ui-corner-all ' +\n",
       "                        'ui-button-icon-only');\n",
       "        button.attr('role', 'button');\n",
       "        button.attr('aria-disabled', 'false');\n",
       "        button.click(method_name, toolbar_event);\n",
       "        button.mouseover(tooltip, toolbar_mouse_event);\n",
       "\n",
       "        var icon_img = $('<span/>');\n",
       "        icon_img.addClass('ui-button-icon-primary ui-icon');\n",
       "        icon_img.addClass(image);\n",
       "        icon_img.addClass('ui-corner-all');\n",
       "\n",
       "        var tooltip_span = $('<span/>');\n",
       "        tooltip_span.addClass('ui-button-text');\n",
       "        tooltip_span.html(tooltip);\n",
       "\n",
       "        button.append(icon_img);\n",
       "        button.append(tooltip_span);\n",
       "\n",
       "        nav_element.append(button);\n",
       "    }\n",
       "\n",
       "    var fmt_picker_span = $('<span/>');\n",
       "\n",
       "    var fmt_picker = $('<select/>');\n",
       "    fmt_picker.addClass('mpl-toolbar-option ui-widget ui-widget-content');\n",
       "    fmt_picker_span.append(fmt_picker);\n",
       "    nav_element.append(fmt_picker_span);\n",
       "    this.format_dropdown = fmt_picker[0];\n",
       "\n",
       "    for (var ind in mpl.extensions) {\n",
       "        var fmt = mpl.extensions[ind];\n",
       "        var option = $(\n",
       "            '<option/>', {selected: fmt === mpl.default_extension}).html(fmt);\n",
       "        fmt_picker.append(option)\n",
       "    }\n",
       "\n",
       "    // Add hover states to the ui-buttons\n",
       "    $( \".ui-button\" ).hover(\n",
       "        function() { $(this).addClass(\"ui-state-hover\");},\n",
       "        function() { $(this).removeClass(\"ui-state-hover\");}\n",
       "    );\n",
       "\n",
       "    var status_bar = $('<span class=\"mpl-message\"/>');\n",
       "    nav_element.append(status_bar);\n",
       "    this.message = status_bar[0];\n",
       "}\n",
       "\n",
       "mpl.figure.prototype.request_resize = function(x_pixels, y_pixels) {\n",
       "    // Request matplotlib to resize the figure. Matplotlib will then trigger a resize in the client,\n",
       "    // which will in turn request a refresh of the image.\n",
       "    this.send_message('resize', {'width': x_pixels, 'height': y_pixels});\n",
       "}\n",
       "\n",
       "mpl.figure.prototype.send_message = function(type, properties) {\n",
       "    properties['type'] = type;\n",
       "    properties['figure_id'] = this.id;\n",
       "    this.ws.send(JSON.stringify(properties));\n",
       "}\n",
       "\n",
       "mpl.figure.prototype.send_draw_message = function() {\n",
       "    if (!this.waiting) {\n",
       "        this.waiting = true;\n",
       "        this.ws.send(JSON.stringify({type: \"draw\", figure_id: this.id}));\n",
       "    }\n",
       "}\n",
       "\n",
       "\n",
       "mpl.figure.prototype.handle_save = function(fig, msg) {\n",
       "    var format_dropdown = fig.format_dropdown;\n",
       "    var format = format_dropdown.options[format_dropdown.selectedIndex].value;\n",
       "    fig.ondownload(fig, format);\n",
       "}\n",
       "\n",
       "\n",
       "mpl.figure.prototype.handle_resize = function(fig, msg) {\n",
       "    var size = msg['size'];\n",
       "    if (size[0] != fig.canvas.width || size[1] != fig.canvas.height) {\n",
       "        fig._resize_canvas(size[0], size[1]);\n",
       "        fig.send_message(\"refresh\", {});\n",
       "    };\n",
       "}\n",
       "\n",
       "mpl.figure.prototype.handle_rubberband = function(fig, msg) {\n",
       "    var x0 = msg['x0'];\n",
       "    var y0 = fig.canvas.height - msg['y0'];\n",
       "    var x1 = msg['x1'];\n",
       "    var y1 = fig.canvas.height - msg['y1'];\n",
       "    x0 = Math.floor(x0) + 0.5;\n",
       "    y0 = Math.floor(y0) + 0.5;\n",
       "    x1 = Math.floor(x1) + 0.5;\n",
       "    y1 = Math.floor(y1) + 0.5;\n",
       "    var min_x = Math.min(x0, x1);\n",
       "    var min_y = Math.min(y0, y1);\n",
       "    var width = Math.abs(x1 - x0);\n",
       "    var height = Math.abs(y1 - y0);\n",
       "\n",
       "    fig.rubberband_context.clearRect(\n",
       "        0, 0, fig.canvas.width, fig.canvas.height);\n",
       "\n",
       "    fig.rubberband_context.strokeRect(min_x, min_y, width, height);\n",
       "}\n",
       "\n",
       "mpl.figure.prototype.handle_figure_label = function(fig, msg) {\n",
       "    // Updates the figure title.\n",
       "    fig.header.textContent = msg['label'];\n",
       "}\n",
       "\n",
       "mpl.figure.prototype.handle_cursor = function(fig, msg) {\n",
       "    var cursor = msg['cursor'];\n",
       "    switch(cursor)\n",
       "    {\n",
       "    case 0:\n",
       "        cursor = 'pointer';\n",
       "        break;\n",
       "    case 1:\n",
       "        cursor = 'default';\n",
       "        break;\n",
       "    case 2:\n",
       "        cursor = 'crosshair';\n",
       "        break;\n",
       "    case 3:\n",
       "        cursor = 'move';\n",
       "        break;\n",
       "    }\n",
       "    fig.rubberband_canvas.style.cursor = cursor;\n",
       "}\n",
       "\n",
       "mpl.figure.prototype.handle_message = function(fig, msg) {\n",
       "    fig.message.textContent = msg['message'];\n",
       "}\n",
       "\n",
       "mpl.figure.prototype.handle_draw = function(fig, msg) {\n",
       "    // Request the server to send over a new figure.\n",
       "    fig.send_draw_message();\n",
       "}\n",
       "\n",
       "mpl.figure.prototype.handle_image_mode = function(fig, msg) {\n",
       "    fig.image_mode = msg['mode'];\n",
       "}\n",
       "\n",
       "mpl.figure.prototype.updated_canvas_event = function() {\n",
       "    // Called whenever the canvas gets updated.\n",
       "    this.send_message(\"ack\", {});\n",
       "}\n",
       "\n",
       "// A function to construct a web socket function for onmessage handling.\n",
       "// Called in the figure constructor.\n",
       "mpl.figure.prototype._make_on_message_function = function(fig) {\n",
       "    return function socket_on_message(evt) {\n",
       "        if (evt.data instanceof Blob) {\n",
       "            /* FIXME: We get \"Resource interpreted as Image but\n",
       "             * transferred with MIME type text/plain:\" errors on\n",
       "             * Chrome.  But how to set the MIME type?  It doesn't seem\n",
       "             * to be part of the websocket stream */\n",
       "            evt.data.type = \"image/png\";\n",
       "\n",
       "            /* Free the memory for the previous frames */\n",
       "            if (fig.imageObj.src) {\n",
       "                (window.URL || window.webkitURL).revokeObjectURL(\n",
       "                    fig.imageObj.src);\n",
       "            }\n",
       "\n",
       "            fig.imageObj.src = (window.URL || window.webkitURL).createObjectURL(\n",
       "                evt.data);\n",
       "            fig.updated_canvas_event();\n",
       "            fig.waiting = false;\n",
       "            return;\n",
       "        }\n",
       "        else if (typeof evt.data === 'string' && evt.data.slice(0, 21) == \"data:image/png;base64\") {\n",
       "            fig.imageObj.src = evt.data;\n",
       "            fig.updated_canvas_event();\n",
       "            fig.waiting = false;\n",
       "            return;\n",
       "        }\n",
       "\n",
       "        var msg = JSON.parse(evt.data);\n",
       "        var msg_type = msg['type'];\n",
       "\n",
       "        // Call the  \"handle_{type}\" callback, which takes\n",
       "        // the figure and JSON message as its only arguments.\n",
       "        try {\n",
       "            var callback = fig[\"handle_\" + msg_type];\n",
       "        } catch (e) {\n",
       "            console.log(\"No handler for the '\" + msg_type + \"' message type: \", msg);\n",
       "            return;\n",
       "        }\n",
       "\n",
       "        if (callback) {\n",
       "            try {\n",
       "                // console.log(\"Handling '\" + msg_type + \"' message: \", msg);\n",
       "                callback(fig, msg);\n",
       "            } catch (e) {\n",
       "                console.log(\"Exception inside the 'handler_\" + msg_type + \"' callback:\", e, e.stack, msg);\n",
       "            }\n",
       "        }\n",
       "    };\n",
       "}\n",
       "\n",
       "// from http://stackoverflow.com/questions/1114465/getting-mouse-location-in-canvas\n",
       "mpl.findpos = function(e) {\n",
       "    //this section is from http://www.quirksmode.org/js/events_properties.html\n",
       "    var targ;\n",
       "    if (!e)\n",
       "        e = window.event;\n",
       "    if (e.target)\n",
       "        targ = e.target;\n",
       "    else if (e.srcElement)\n",
       "        targ = e.srcElement;\n",
       "    if (targ.nodeType == 3) // defeat Safari bug\n",
       "        targ = targ.parentNode;\n",
       "\n",
       "    // jQuery normalizes the pageX and pageY\n",
       "    // pageX,Y are the mouse positions relative to the document\n",
       "    // offset() returns the position of the element relative to the document\n",
       "    var x = e.pageX - $(targ).offset().left;\n",
       "    var y = e.pageY - $(targ).offset().top;\n",
       "\n",
       "    return {\"x\": x, \"y\": y};\n",
       "};\n",
       "\n",
       "/*\n",
       " * return a copy of an object with only non-object keys\n",
       " * we need this to avoid circular references\n",
       " * http://stackoverflow.com/a/24161582/3208463\n",
       " */\n",
       "function simpleKeys (original) {\n",
       "  return Object.keys(original).reduce(function (obj, key) {\n",
       "    if (typeof original[key] !== 'object')\n",
       "        obj[key] = original[key]\n",
       "    return obj;\n",
       "  }, {});\n",
       "}\n",
       "\n",
       "mpl.figure.prototype.mouse_event = function(event, name) {\n",
       "    var canvas_pos = mpl.findpos(event)\n",
       "\n",
       "    if (name === 'button_press')\n",
       "    {\n",
       "        this.canvas.focus();\n",
       "        this.canvas_div.focus();\n",
       "    }\n",
       "\n",
       "    var x = canvas_pos.x;\n",
       "    var y = canvas_pos.y;\n",
       "\n",
       "    this.send_message(name, {x: x, y: y, button: event.button,\n",
       "                             step: event.step,\n",
       "                             guiEvent: simpleKeys(event)});\n",
       "\n",
       "    /* This prevents the web browser from automatically changing to\n",
       "     * the text insertion cursor when the button is pressed.  We want\n",
       "     * to control all of the cursor setting manually through the\n",
       "     * 'cursor' event from matplotlib */\n",
       "    event.preventDefault();\n",
       "    return false;\n",
       "}\n",
       "\n",
       "mpl.figure.prototype._key_event_extra = function(event, name) {\n",
       "    // Handle any extra behaviour associated with a key event\n",
       "}\n",
       "\n",
       "mpl.figure.prototype.key_event = function(event, name) {\n",
       "\n",
       "    // Prevent repeat events\n",
       "    if (name == 'key_press')\n",
       "    {\n",
       "        if (event.which === this._key)\n",
       "            return;\n",
       "        else\n",
       "            this._key = event.which;\n",
       "    }\n",
       "    if (name == 'key_release')\n",
       "        this._key = null;\n",
       "\n",
       "    var value = '';\n",
       "    if (event.ctrlKey && event.which != 17)\n",
       "        value += \"ctrl+\";\n",
       "    if (event.altKey && event.which != 18)\n",
       "        value += \"alt+\";\n",
       "    if (event.shiftKey && event.which != 16)\n",
       "        value += \"shift+\";\n",
       "\n",
       "    value += 'k';\n",
       "    value += event.which.toString();\n",
       "\n",
       "    this._key_event_extra(event, name);\n",
       "\n",
       "    this.send_message(name, {key: value,\n",
       "                             guiEvent: simpleKeys(event)});\n",
       "    return false;\n",
       "}\n",
       "\n",
       "mpl.figure.prototype.toolbar_button_onclick = function(name) {\n",
       "    if (name == 'download') {\n",
       "        this.handle_save(this, null);\n",
       "    } else {\n",
       "        this.send_message(\"toolbar_button\", {name: name});\n",
       "    }\n",
       "};\n",
       "\n",
       "mpl.figure.prototype.toolbar_button_onmouseover = function(tooltip) {\n",
       "    this.message.textContent = tooltip;\n",
       "};\n",
       "mpl.toolbar_items = [[\"Home\", \"Reset original view\", \"fa fa-home icon-home\", \"home\"], [\"Back\", \"Back to  previous view\", \"fa fa-arrow-left icon-arrow-left\", \"back\"], [\"Forward\", \"Forward to next view\", \"fa fa-arrow-right icon-arrow-right\", \"forward\"], [\"\", \"\", \"\", \"\"], [\"Pan\", \"Pan axes with left mouse, zoom with right\", \"fa fa-arrows icon-move\", \"pan\"], [\"Zoom\", \"Zoom to rectangle\", \"fa fa-square-o icon-check-empty\", \"zoom\"], [\"\", \"\", \"\", \"\"], [\"Download\", \"Download plot\", \"fa fa-floppy-o icon-save\", \"download\"]];\n",
       "\n",
       "mpl.extensions = [\"eps\", \"jpeg\", \"pdf\", \"png\", \"ps\", \"raw\", \"svg\", \"tif\"];\n",
       "\n",
       "mpl.default_extension = \"png\";var comm_websocket_adapter = function(comm) {\n",
       "    // Create a \"websocket\"-like object which calls the given IPython comm\n",
       "    // object with the appropriate methods. Currently this is a non binary\n",
       "    // socket, so there is still some room for performance tuning.\n",
       "    var ws = {};\n",
       "\n",
       "    ws.close = function() {\n",
       "        comm.close()\n",
       "    };\n",
       "    ws.send = function(m) {\n",
       "        //console.log('sending', m);\n",
       "        comm.send(m);\n",
       "    };\n",
       "    // Register the callback with on_msg.\n",
       "    comm.on_msg(function(msg) {\n",
       "        //console.log('receiving', msg['content']['data'], msg);\n",
       "        // Pass the mpl event to the overriden (by mpl) onmessage function.\n",
       "        ws.onmessage(msg['content']['data'])\n",
       "    });\n",
       "    return ws;\n",
       "}\n",
       "\n",
       "mpl.mpl_figure_comm = function(comm, msg) {\n",
       "    // This is the function which gets called when the mpl process\n",
       "    // starts-up an IPython Comm through the \"matplotlib\" channel.\n",
       "\n",
       "    var id = msg.content.data.id;\n",
       "    // Get hold of the div created by the display call when the Comm\n",
       "    // socket was opened in Python.\n",
       "    var element = $(\"#\" + id);\n",
       "    var ws_proxy = comm_websocket_adapter(comm)\n",
       "\n",
       "    function ondownload(figure, format) {\n",
       "        window.open(figure.imageObj.src);\n",
       "    }\n",
       "\n",
       "    var fig = new mpl.figure(id, ws_proxy,\n",
       "                           ondownload,\n",
       "                           element.get(0));\n",
       "\n",
       "    // Call onopen now - mpl needs it, as it is assuming we've passed it a real\n",
       "    // web socket which is closed, not our websocket->open comm proxy.\n",
       "    ws_proxy.onopen();\n",
       "\n",
       "    fig.parent_element = element.get(0);\n",
       "    fig.cell_info = mpl.find_output_cell(\"<div id='\" + id + \"'></div>\");\n",
       "    if (!fig.cell_info) {\n",
       "        console.error(\"Failed to find cell for figure\", id, fig);\n",
       "        return;\n",
       "    }\n",
       "\n",
       "    var output_index = fig.cell_info[2]\n",
       "    var cell = fig.cell_info[0];\n",
       "\n",
       "};\n",
       "\n",
       "mpl.figure.prototype.handle_close = function(fig, msg) {\n",
       "    fig.root.unbind('remove')\n",
       "\n",
       "    // Update the output cell to use the data from the current canvas.\n",
       "    fig.push_to_output();\n",
       "    var dataURL = fig.canvas.toDataURL();\n",
       "    // Re-enable the keyboard manager in IPython - without this line, in FF,\n",
       "    // the notebook keyboard shortcuts fail.\n",
       "    IPython.keyboard_manager.enable()\n",
       "    $(fig.parent_element).html('<img src=\"' + dataURL + '\">');\n",
       "    fig.close_ws(fig, msg);\n",
       "}\n",
       "\n",
       "mpl.figure.prototype.close_ws = function(fig, msg){\n",
       "    fig.send_message('closing', msg);\n",
       "    // fig.ws.close()\n",
       "}\n",
       "\n",
       "mpl.figure.prototype.push_to_output = function(remove_interactive) {\n",
       "    // Turn the data on the canvas into data in the output cell.\n",
       "    var dataURL = this.canvas.toDataURL();\n",
       "    this.cell_info[1]['text/html'] = '<img src=\"' + dataURL + '\">';\n",
       "}\n",
       "\n",
       "mpl.figure.prototype.updated_canvas_event = function() {\n",
       "    // Tell IPython that the notebook contents must change.\n",
       "    IPython.notebook.set_dirty(true);\n",
       "    this.send_message(\"ack\", {});\n",
       "    var fig = this;\n",
       "    // Wait a second, then push the new image to the DOM so\n",
       "    // that it is saved nicely (might be nice to debounce this).\n",
       "    setTimeout(function () { fig.push_to_output() }, 1000);\n",
       "}\n",
       "\n",
       "mpl.figure.prototype._init_toolbar = function() {\n",
       "    var fig = this;\n",
       "\n",
       "    var nav_element = $('<div/>')\n",
       "    nav_element.attr('style', 'width: 100%');\n",
       "    this.root.append(nav_element);\n",
       "\n",
       "    // Define a callback function for later on.\n",
       "    function toolbar_event(event) {\n",
       "        return fig.toolbar_button_onclick(event['data']);\n",
       "    }\n",
       "    function toolbar_mouse_event(event) {\n",
       "        return fig.toolbar_button_onmouseover(event['data']);\n",
       "    }\n",
       "\n",
       "    for(var toolbar_ind in mpl.toolbar_items){\n",
       "        var name = mpl.toolbar_items[toolbar_ind][0];\n",
       "        var tooltip = mpl.toolbar_items[toolbar_ind][1];\n",
       "        var image = mpl.toolbar_items[toolbar_ind][2];\n",
       "        var method_name = mpl.toolbar_items[toolbar_ind][3];\n",
       "\n",
       "        if (!name) { continue; };\n",
       "\n",
       "        var button = $('<button class=\"btn btn-default\" href=\"#\" title=\"' + name + '\"><i class=\"fa ' + image + ' fa-lg\"></i></button>');\n",
       "        button.click(method_name, toolbar_event);\n",
       "        button.mouseover(tooltip, toolbar_mouse_event);\n",
       "        nav_element.append(button);\n",
       "    }\n",
       "\n",
       "    // Add the status bar.\n",
       "    var status_bar = $('<span class=\"mpl-message\" style=\"text-align:right; float: right;\"/>');\n",
       "    nav_element.append(status_bar);\n",
       "    this.message = status_bar[0];\n",
       "\n",
       "    // Add the close button to the window.\n",
       "    var buttongrp = $('<div class=\"btn-group inline pull-right\"></div>');\n",
       "    var button = $('<button class=\"btn btn-mini btn-primary\" href=\"#\" title=\"Stop Interaction\"><i class=\"fa fa-power-off icon-remove icon-large\"></i></button>');\n",
       "    button.click(function (evt) { fig.handle_close(fig, {}); } );\n",
       "    button.mouseover('Stop Interaction', toolbar_mouse_event);\n",
       "    buttongrp.append(button);\n",
       "    var titlebar = this.root.find($('.ui-dialog-titlebar'));\n",
       "    titlebar.prepend(buttongrp);\n",
       "}\n",
       "\n",
       "mpl.figure.prototype._root_extra_style = function(el){\n",
       "    var fig = this\n",
       "    el.on(\"remove\", function(){\n",
       "\tfig.close_ws(fig, {});\n",
       "    });\n",
       "}\n",
       "\n",
       "mpl.figure.prototype._canvas_extra_style = function(el){\n",
       "    // this is important to make the div 'focusable\n",
       "    el.attr('tabindex', 0)\n",
       "    // reach out to IPython and tell the keyboard manager to turn it's self\n",
       "    // off when our div gets focus\n",
       "\n",
       "    // location in version 3\n",
       "    if (IPython.notebook.keyboard_manager) {\n",
       "        IPython.notebook.keyboard_manager.register_events(el);\n",
       "    }\n",
       "    else {\n",
       "        // location in version 2\n",
       "        IPython.keyboard_manager.register_events(el);\n",
       "    }\n",
       "\n",
       "}\n",
       "\n",
       "mpl.figure.prototype._key_event_extra = function(event, name) {\n",
       "    var manager = IPython.notebook.keyboard_manager;\n",
       "    if (!manager)\n",
       "        manager = IPython.keyboard_manager;\n",
       "\n",
       "    // Check for shift+enter\n",
       "    if (event.shiftKey && event.which == 13) {\n",
       "        this.canvas_div.blur();\n",
       "        event.shiftKey = false;\n",
       "        // Send a \"J\" for go to next cell\n",
       "        event.which = 74;\n",
       "        event.keyCode = 74;\n",
       "        manager.command_mode();\n",
       "        manager.handle_keydown(event);\n",
       "    }\n",
       "}\n",
       "\n",
       "mpl.figure.prototype.handle_save = function(fig, msg) {\n",
       "    fig.ondownload(fig, null);\n",
       "}\n",
       "\n",
       "\n",
       "mpl.find_output_cell = function(html_output) {\n",
       "    // Return the cell and output element which can be found *uniquely* in the notebook.\n",
       "    // Note - this is a bit hacky, but it is done because the \"notebook_saving.Notebook\"\n",
       "    // IPython event is triggered only after the cells have been serialised, which for\n",
       "    // our purposes (turning an active figure into a static one), is too late.\n",
       "    var cells = IPython.notebook.get_cells();\n",
       "    var ncells = cells.length;\n",
       "    for (var i=0; i<ncells; i++) {\n",
       "        var cell = cells[i];\n",
       "        if (cell.cell_type === 'code'){\n",
       "            for (var j=0; j<cell.output_area.outputs.length; j++) {\n",
       "                var data = cell.output_area.outputs[j];\n",
       "                if (data.data) {\n",
       "                    // IPython >= 3 moved mimebundle to data attribute of output\n",
       "                    data = data.data;\n",
       "                }\n",
       "                if (data['text/html'] == html_output) {\n",
       "                    return [cell, data, j];\n",
       "                }\n",
       "            }\n",
       "        }\n",
       "    }\n",
       "}\n",
       "\n",
       "// Register the function which deals with the matplotlib target/channel.\n",
       "// The kernel may be null if the page has been refreshed.\n",
       "if (IPython.notebook.kernel != null) {\n",
       "    IPython.notebook.kernel.comm_manager.register_target('matplotlib', mpl.mpl_figure_comm);\n",
       "}\n"
      ],
      "text/plain": [
       "<IPython.core.display.Javascript object>"
      ]
     },
     "metadata": {},
     "output_type": "display_data"
    },
    {
     "data": {
      "text/html": [
       "<img src=\"data:image/png;base64,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\">"
      ],
      "text/plain": [
       "<IPython.core.display.HTML object>"
      ]
     },
     "metadata": {},
     "output_type": "display_data"
    }
   ],
   "source": [
    "projection = iplt.default_projection(cube1)\n",
    "fig = plt.figure(figsize=(12, 6))\n",
    "ax = fig.add_subplot(111, projection=projection)\n",
    "ax.coastlines()\n",
    "\n",
    "plt.title(cube1.long_name)\n",
    "plot1 = Contourf(cube1, ax,norm=matplotlib.colors.LogNorm(),cmap='coolwarm')\n",
    "#plot2 = Contour(cube2, ax, cmap='viridis')\n",
    "#Browser([plot1, plot2]).display()\n",
    "Browser([plot1]).display()"
   ]
  }
 ],
 "metadata": {
  "kernelspec": {
   "display_name": "Python [Root]",
   "language": "python",
   "name": "Python [Root]"
  },
  "language_info": {
   "codemirror_mode": {
    "name": "ipython",
    "version": 2
   },
   "file_extension": ".py",
   "mimetype": "text/x-python",
   "name": "python",
   "nbconvert_exporter": "python",
   "pygments_lexer": "ipython2",
   "version": "2.7.12"
  },
  "widgets": {
   "state": {
    "0097afa6b879420b9ac109a250499655": {
     "views": []
    },
    "02d088e9c0004ee09d049f258fb1abfb": {
     "views": []
    },
    "03c64bfbcf664398ba9fd1915e09f84a": {
     "views": []
    },
    "05013dac1a07482fa1a26d8dc698ff61": {
     "views": []
    },
    "05cf576820624d34815162383a3bbe38": {
     "views": []
    },
    "06398f3fefea448d9f1a47d23e45f207": {
     "views": []
    },
    "07de5673c38a4a83a86da8a69e25ea0b": {
     "views": []
    },
    "07e37b50860e49bea332a5cacc319952": {
     "views": []
    },
    "0c5e90718f8c41f281c2c747f4114435": {
     "views": []
    },
    "0f114f2e850a4b8a80083229f190556f": {
     "views": []
    },
    "0fad8031a12941929e3a933a63c319d6": {
     "views": []
    },
    "14de550123a747e3ba94e76f5d45ca05": {
     "views": []
    },
    "151e28e0617345c585e3445ece4808a1": {
     "views": []
    },
    "15e95e808a4149f694d207cac9d5a906": {
     "views": []
    },
    "163ce32e676f4844967c25e6ae826845": {
     "views": []
    },
    "16486484d1174493b02e5b40f579af2c": {
     "views": []
    },
    "169357cad8cf43959f49e8fe4e75743d": {
     "views": []
    },
    "1e05187844d444598d927d4fd7608af4": {
     "views": []
    },
    "1e92c2ad05cc480fb3d31c90af955a6b": {
     "views": []
    },
    "220a854d65274a6e92ecbedce1f0a462": {
     "views": []
    },
    "229abbbc50174a3ca5f17f6aa6aebdff": {
     "views": []
    },
    "236d2e86cee44c84b61f3cac399ce03d": {
     "views": []
    },
    "23d457913e8f4cbb861657eb17d39170": {
     "views": []
    },
    "26d71057dc754d78a2305a56ef7a5b77": {
     "views": []
    },
    "28f0d80cd65b496d871ab63218d4e9d6": {
     "views": []
    },
    "2c721ac17b134c0eb6fdf5961f2ac069": {
     "views": [
      {
       "cell_index": 5
      }
     ]
    },
    "2f4f623129054df88c8cc35d482893d1": {
     "views": []
    },
    "38139167800944b19474049da490b17c": {
     "views": []
    },
    "3cceeca5764c4b42961e895b8503fb65": {
     "views": []
    },
    "3cfb7ed31a754a058abbc9ba69058562": {
     "views": []
    },
    "3d26be03f7c94c39a40409dba176c98c": {
     "views": []
    },
    "3d82a89d6ae44c6e875f84d91d963808": {
     "views": []
    },
    "3f31327fe7a94b51a2520c2efaf48ba6": {
     "views": []
    },
    "3fbfc0b5047441498a87ed4d3baa36c0": {
     "views": []
    },
    "4077d7bf84eb487bb887f303e49dd98b": {
     "views": []
    },
    "473ccfc60c854f249df866f80e0c2a41": {
     "views": []
    },
    "48ea9a5d6f31442d9d4f6826cc40e499": {
     "views": []
    },
    "491d554f3cca41a8b477c220c9d4683e": {
     "views": []
    },
    "4b293c9e93ac4b5c86273b37b527910e": {
     "views": []
    },
    "4e25de261c7048fa83f8881c1eaf0e12": {
     "views": []
    },
    "4ee9e39a655645b888cf69f17a2a3125": {
     "views": []
    },
    "51005ddd9cc34be5a76fa0695d77fc19": {
     "views": []
    },
    "568647abe7ac4b1ca8a56d099d66e882": {
     "views": []
    },
    "569c75f061a04917bc83c92ebc10c58c": {
     "views": []
    },
    "5a8c3de5c887444089a2a9aec2ab221b": {
     "views": []
    },
    "5d21e62cbea44f92a7a651f350248c3f": {
     "views": []
    },
    "5e87d6b1d57d43cc93a8a416529f4c6e": {
     "views": []
    },
    "6041ab4cbe9c4d758307dadf9fbfbbf8": {
     "views": []
    },
    "621f891c218345709c2dd7fd51e2f903": {
     "views": []
    },
    "62b7001f95e646dfb822d380c23271b2": {
     "views": []
    },
    "6881a26df86d4b2499ab7f9f5a9e68d7": {
     "views": []
    },
    "696272d4494b41758597d9a44802a894": {
     "views": []
    },
    "6fb1965e4f054574a1a7f73aa6642a6e": {
     "views": []
    },
    "76cb8e0d7f544964b7bbcf8b4c469fd0": {
     "views": []
    },
    "78682d878c3149ada5f4793c18ca516f": {
     "views": []
    },
    "7bc1492241c2468f9ddaa60f312cb72e": {
     "views": []
    },
    "7c20bddd84fd4cada3ca253a74c4bb78": {
     "views": []
    },
    "806a8f21187f46dfaf31abab1f2e557e": {
     "views": []
    },
    "82ff8be8de10415b888a9e1c3d6dc1b8": {
     "views": []
    },
    "882654fd0870484b9ac819a9a88adb44": {
     "views": []
    },
    "88d6769ee50946e6bc83ad6642d110ca": {
     "views": []
    },
    "892cdea83f8a44af8f4accc1c1abd591": {
     "views": []
    },
    "8955c59f2c53492abf685d79d707ee10": {
     "views": []
    },
    "89a4100efeeb4ff390edc5383ee8d025": {
     "views": []
    },
    "8f5a764141954e2f878635f65361da65": {
     "views": []
    },
    "9367fadeb69f4a27af6512344501a958": {
     "views": []
    },
    "93ea261080fa418b86514252896b8fac": {
     "views": []
    },
    "94b4b837ad80475192871d9b1365eea2": {
     "views": []
    },
    "95d96212247849db8c427f77a9851a1d": {
     "views": []
    },
    "9814f9720f734eb7926701d1462f430e": {
     "views": []
    },
    "98d8be534ffa458bb2094179d16048a7": {
     "views": []
    },
    "9cf5ba31e90d484eab393c20a53c7985": {
     "views": []
    },
    "9dd7299d0ea94a229073cf3fd63ed285": {
     "views": []
    },
    "9e448c26a0b845db9afc536827b24034": {
     "views": []
    },
    "9fa943aa98b946fd9cedd8baaff12cd4": {
     "views": []
    },
    "a1e1057b60a243b986a15f5e1a567854": {
     "views": []
    },
    "a336526c51824b1fad824a0a71929350": {
     "views": []
    },
    "a518f2f7f29a4cdb8112b6b5570134aa": {
     "views": []
    },
    "a5a99ac5570041618ed055faab32572b": {
     "views": []
    },
    "a64d93de850049d599cfdf4c406942d7": {
     "views": []
    },
    "a6b608a8c6354c20900c58ce5c7bbd55": {
     "views": []
    },
    "aede436aa8db4a2ab308fa66bddbb6d0": {
     "views": []
    },
    "aff30849151645a28723f7d91aec076f": {
     "views": []
    },
    "b15e9efb1e9849a094dc49a5201914de": {
     "views": []
    },
    "b20a9bd4f2ad4c2c8c7f6f1787fdba51": {
     "views": []
    },
    "b28c43229dc847cf818471f8e7126780": {
     "views": []
    },
    "b6246798bd314bf58c44f37605696260": {
     "views": []
    },
    "b8b061f68cf2483ea53e861dc44a5ddb": {
     "views": []
    },
    "b9e852c8e87e4ac78ae2c2f4345a2ef5": {
     "views": []
    },
    "bd3777b07e8f4f09b9a6d32d7472472d": {
     "views": []
    },
    "bdc7e1aaf27c4cfe81660ee438101d1a": {
     "views": []
    },
    "beb3c75614214a2a97cab38399ecf9bf": {
     "views": []
    },
    "bf73465da0804e3798d8917b4ebcea3b": {
     "views": []
    },
    "c3897651dbd54e0abe1beed2521eda7c": {
     "views": []
    },
    "c4c49823e852461b8131944089bb0b5e": {
     "views": []
    },
    "c6f5e07236a540c6b64e94766961ffd1": {
     "views": []
    },
    "caa8910019d04b8eb13c82a9b9900cd5": {
     "views": []
    },
    "cb13fc0c270e4e54832ab036acff969d": {
     "views": []
    },
    "cb4f364337d6443cb62ddd35e3880a35": {
     "views": []
    },
    "cc2ab917738c4e9f96c28f70e408190c": {
     "views": []
    },
    "cf7908827eaa426d80a0f4350f39bd76": {
     "views": []
    },
    "d01fd3ebd4f343bf8e487c47a7fc3f48": {
     "views": []
    },
    "d3bb2d7ef51c4558b4a648653e781a9a": {
     "views": []
    },
    "d3e2b2604058465e92e7997931cf2c4f": {
     "views": []
    },
    "d47d9da490ca484d89e1d5c9f1d29123": {
     "views": []
    },
    "d4904cb4bbc043d5bced54855aa67450": {
     "views": []
    },
    "dc4fa05d6ed24af7a29e37d6c39eaecf": {
     "views": []
    },
    "df9a93371fe04baabd119fc1b8d475a9": {
     "views": []
    },
    "e2a7bc5cb00d414ab409fdc75efde2c7": {
     "views": []
    },
    "e89bf3ae173c42769dc56dc10ebe8656": {
     "views": []
    },
    "e9d438999fa64235b80ca013f8ecfd10": {
     "views": []
    },
    "ea3fea64738940d386b85bfdaea7b116": {
     "views": []
    },
    "ea45925ab1184b2a98db519e451cdfbe": {
     "views": []
    },
    "eab110c3fcda4430a4d6e4ab2896c36f": {
     "views": []
    },
    "ead23d4b3f394b8f8a0efbd19215bdd5": {
     "views": []
    },
    "f470db0490cb4e63a6683c0145fe61ce": {
     "views": []
    },
    "f4839d4b4f0f4c438e2b964506cad2b7": {
     "views": []
    },
    "f5fbac77c6d2482c9939a292ea8a80e6": {
     "views": []
    },
    "f7515f4160004d15bb879ed921fd95b6": {
     "views": []
    },
    "f84cae540d944e1a9d23ea90f211ce3c": {
     "views": []
    },
    "fac70246ff0d455db8cfd87caa22664a": {
     "views": []
    },
    "ff1f65d22cca4e16a91fbee70fb73910": {
     "views": []
    }
   },
   "version": "1.1.2"
  }
 },
 "nbformat": 4,
 "nbformat_minor": 0
}
